{
 "cells": [
  {
   "cell_type": "code",
   "execution_count": 2,
   "id": "7dd5b2be",
   "metadata": {},
   "outputs": [],
   "source": [
    "import pandas as pd\n",
    "import matplotlib.pyplot as plt"
   ]
  },
  {
   "cell_type": "code",
   "execution_count": 5,
   "id": "d8d85dc6",
   "metadata": {},
   "outputs": [],
   "source": [
    "df = pd.read_csv('exp_results.csv')"
   ]
  },
  {
   "cell_type": "code",
   "execution_count": 6,
   "id": "8554e24a",
   "metadata": {},
   "outputs": [
    {
     "data": {
      "text/html": [
       "<div>\n",
       "<style scoped>\n",
       "    .dataframe tbody tr th:only-of-type {\n",
       "        vertical-align: middle;\n",
       "    }\n",
       "\n",
       "    .dataframe tbody tr th {\n",
       "        vertical-align: top;\n",
       "    }\n",
       "\n",
       "    .dataframe thead th {\n",
       "        text-align: right;\n",
       "    }\n",
       "</style>\n",
       "<table border=\"1\" class=\"dataframe\">\n",
       "  <thead>\n",
       "    <tr style=\"text-align: right;\">\n",
       "      <th></th>\n",
       "      <th>Prediction Type</th>\n",
       "      <th>Sentiment Model</th>\n",
       "      <th>Normal Model</th>\n",
       "    </tr>\n",
       "  </thead>\n",
       "  <tbody>\n",
       "    <tr>\n",
       "      <th>0</th>\n",
       "      <td>Negative Close</td>\n",
       "      <td>985.500634</td>\n",
       "      <td>1273.950261</td>\n",
       "    </tr>\n",
       "    <tr>\n",
       "      <th>1</th>\n",
       "      <td>Negative Open</td>\n",
       "      <td>688.617204</td>\n",
       "      <td>600.608894</td>\n",
       "    </tr>\n",
       "    <tr>\n",
       "      <th>2</th>\n",
       "      <td>Negative Average</td>\n",
       "      <td>1584.167662</td>\n",
       "      <td>1662.115946</td>\n",
       "    </tr>\n",
       "    <tr>\n",
       "      <th>3</th>\n",
       "      <td>Positive Close</td>\n",
       "      <td>1172.735684</td>\n",
       "      <td>1098.876961</td>\n",
       "    </tr>\n",
       "    <tr>\n",
       "      <th>4</th>\n",
       "      <td>Positive Open</td>\n",
       "      <td>559.524043</td>\n",
       "      <td>626.442813</td>\n",
       "    </tr>\n",
       "    <tr>\n",
       "      <th>5</th>\n",
       "      <td>Positive Average</td>\n",
       "      <td>1423.409904</td>\n",
       "      <td>1592.362511</td>\n",
       "    </tr>\n",
       "    <tr>\n",
       "      <th>6</th>\n",
       "      <td>Neutral Close</td>\n",
       "      <td>1246.952080</td>\n",
       "      <td>1237.268422</td>\n",
       "    </tr>\n",
       "    <tr>\n",
       "      <th>7</th>\n",
       "      <td>Neutral Open</td>\n",
       "      <td>732.613844</td>\n",
       "      <td>687.124429</td>\n",
       "    </tr>\n",
       "    <tr>\n",
       "      <th>8</th>\n",
       "      <td>Neutral Average</td>\n",
       "      <td>1584.167662</td>\n",
       "      <td>1662.115946</td>\n",
       "    </tr>\n",
       "    <tr>\n",
       "      <th>9</th>\n",
       "      <td>Compound Close</td>\n",
       "      <td>1048.110987</td>\n",
       "      <td>1131.141059</td>\n",
       "    </tr>\n",
       "    <tr>\n",
       "      <th>10</th>\n",
       "      <td>Compound Open</td>\n",
       "      <td>562.485755</td>\n",
       "      <td>697.000759</td>\n",
       "    </tr>\n",
       "    <tr>\n",
       "      <th>11</th>\n",
       "      <td>Compound Average</td>\n",
       "      <td>1584.167662</td>\n",
       "      <td>1643.132532</td>\n",
       "    </tr>\n",
       "  </tbody>\n",
       "</table>\n",
       "</div>"
      ],
      "text/plain": [
       "     Prediction Type  Sentiment Model  Normal Model\n",
       "0     Negative Close       985.500634   1273.950261\n",
       "1      Negative Open       688.617204    600.608894\n",
       "2   Negative Average      1584.167662   1662.115946\n",
       "3     Positive Close      1172.735684   1098.876961\n",
       "4      Positive Open       559.524043    626.442813\n",
       "5   Positive Average      1423.409904   1592.362511\n",
       "6      Neutral Close      1246.952080   1237.268422\n",
       "7       Neutral Open       732.613844    687.124429\n",
       "8    Neutral Average      1584.167662   1662.115946\n",
       "9     Compound Close      1048.110987   1131.141059\n",
       "10     Compound Open       562.485755    697.000759\n",
       "11  Compound Average      1584.167662   1643.132532"
      ]
     },
     "execution_count": 6,
     "metadata": {},
     "output_type": "execute_result"
    }
   ],
   "source": [
    "df"
   ]
  },
  {
   "cell_type": "code",
   "execution_count": 8,
   "id": "ddc394f5",
   "metadata": {},
   "outputs": [
    {
     "data": {
      "text/plain": [
       "<AxesSubplot:xlabel='Prediction Type'>"
      ]
     },
     "execution_count": 8,
     "metadata": {},
     "output_type": "execute_result"
    },
    {
     "data": {
      "image/png": "[encoded data removed]",
      "text/plain": [
       "<Figure size 432x288 with 1 Axes>"
      ]
     },
     "metadata": {
      "needs_background": "light"
     },
     "output_type": "display_data"
    }
   ],
   "source": [
    "df.plot.bar(x = 'Prediction Type', )"
   ]
  },
  {
   "cell_type": "code",
   "execution_count": null,
   "id": "45fc86cb",
   "metadata": {},
   "outputs": [],
   "source": []
  }
 ],
 "metadata": {
  "kernelspec": {
   "display_name": "Python 3 (ipykernel)",
   "language": "python",
   "name": "python3"
  },
  "language_info": {
   "codemirror_mode": {
    "name": "ipython",
    "version": 3
   },
   "file_extension": ".py",
   "mimetype": "text/x-python",
   "name": "python",
   "nbconvert_exporter": "python",
   "pygments_lexer": "ipython3",
   "version": "3.10.12"
  }
 },
 "nbformat": 4,
 "nbformat_minor": 5
}
